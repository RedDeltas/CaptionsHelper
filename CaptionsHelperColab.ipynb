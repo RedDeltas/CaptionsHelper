{
  "nbformat": 4,
  "nbformat_minor": 0,
  "metadata": {
    "colab": {
      "provenance": [],
      "authorship_tag": "ABX9TyOURJLdrXPvaWeRMaHQE8RH",
      "include_colab_link": true
    },
    "kernelspec": {
      "name": "python3",
      "display_name": "Python 3"
    },
    "language_info": {
      "name": "python"
    }
  },
  "cells": [
    {
      "cell_type": "markdown",
      "metadata": {
        "id": "view-in-github",
        "colab_type": "text"
      },
      "source": [
        "<a href=\"https://colab.research.google.com/github/RedDeltas/CaptionsHelper/blob/main/CaptionsHelperColab.ipynb\" target=\"_parent\"><img src=\"https://colab.research.google.com/assets/colab-badge.svg\" alt=\"Open In Colab\"/></a>"
      ]
    },
    {
      "cell_type": "markdown",
      "source": [
        "# Captions Helper Colab\n",
        "This app is designed to make it easier to write manual captions for images, it has a number of utilities in it such as file renaming also"
      ],
      "metadata": {
        "id": "Vc_8v4eqf2Yf"
      }
    },
    {
      "cell_type": "markdown",
      "source": [
        "## Install"
      ],
      "metadata": {
        "id": "5sbjKKwNf6Vj"
      }
    },
    {
      "cell_type": "code",
      "execution_count": null,
      "metadata": {
        "id": "Mx3FcEU3OlbD"
      },
      "outputs": [],
      "source": [
        "from google.colab import drive\n",
        "drive.mount('/content/drive')\n",
        "\n",
        "WORKSPACE = '/content/CaptionsHelper'\n",
        "\n",
        "![ ! -d $WORKSPACE ] && echo -= Initial setup CaptionsHelper =- && git clone https://github.com/RedDeltas/CaptionsHelper.git\n",
        "\n",
        "%cd $WORKSPACE\n",
        "!pip install -r requirements.txt"
      ]
    },
    {
      "cell_type": "markdown",
      "source": [
        "## Run App"
      ],
      "metadata": {
        "id": "ikRXsq41gAFb"
      }
    },
    {
      "cell_type": "code",
      "source": [
        "!npm install -g localtunnel\n",
        "\n",
        "import subprocess\n",
        "import threading\n",
        "import time\n",
        "import socket\n",
        "import urllib.request\n",
        "\n",
        "def iframe_thread(port):\n",
        "  while True:\n",
        "      time.sleep(0.5)\n",
        "      sock = socket.socket(socket.AF_INET, socket.SOCK_STREAM)\n",
        "      result = sock.connect_ex(('127.0.0.1', port))\n",
        "      if result == 0:\n",
        "        break\n",
        "      sock.close()\n",
        "  print(\"\\nApp finished loading, trying to launch localtunnel (if it gets stuck here localtunnel is having issues)\\n\")\n",
        "\n",
        "  print(\"The password/enpoint ip for localtunnel is:\", urllib.request.urlopen('https://ipv4.icanhazip.com').read().decode('utf8').strip(\"\\n\"))\n",
        "  p = subprocess.Popen([\"lt\", \"--port\", \"{}\".format(port)], stdout=subprocess.PIPE)\n",
        "  for line in p.stdout:\n",
        "    print(line.decode(), end='')\n",
        "\n",
        "\n",
        "threading.Thread(target=iframe_thread, daemon=True, args=(3005,)).start()\n",
        "!streamsync run captions_helper"
      ],
      "metadata": {
        "id": "-eHiolNHP7uc"
      },
      "execution_count": null,
      "outputs": []
    },
    {
      "cell_type": "markdown",
      "source": [
        "## Flush and Unmount\n",
        "This ensures that any changes made are synced to the GDrive and then unmounts the drive"
      ],
      "metadata": {
        "id": "z4b8-tIfgE6e"
      }
    },
    {
      "cell_type": "code",
      "source": [
        "drive.flush_and_unmount()"
      ],
      "metadata": {
        "id": "qbuwPGOQPhii"
      },
      "execution_count": null,
      "outputs": []
    }
  ]
}